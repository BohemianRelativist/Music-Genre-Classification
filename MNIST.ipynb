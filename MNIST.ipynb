{
  "cells": [
    {
      "cell_type": "code",
      "source": [
        "!wget -q -r -A '*ubyte.gz' --no-parent 'http://yann.lecun.com/exdb/mnist/'\n",
        "!rm -rf Data\n",
        "!mkdir Data\n",
        "!mv yann.lecun.com/exdb/mnist/* Data/\n",
        "!rm -rf yann.lecun.com\n",
        "!gunzip Data/*\n",
        "!pip install idx2numpy\n",
        "\n",
        "import idx2numpy \n",
        "import numpy as np\n",
        "import matplotlib.pyplot as plt\n",
        "\n",
        "x=idx2numpy.convert_from_file(\"/content/Data/train-images-idx3-ubyte\")\n",
        "y=idx2numpy.convert_from_file(\"/content/Data/train-labels-idx1-ubyte\")\n",
        "xr=(x.reshape(x.shape[0],-1).T)/255\n",
        "\n",
        "o_h=np.zeros((10,60000))\n",
        "\n",
        "for i in range(60000):\n",
        "   o_h[y[i],i]=1 "
      ],
      "metadata": {
        "colab": {
          "base_uri": "https://localhost:8080/"
        },
        "id": "C6UzIuCm2NlM",
        "outputId": "116da088-d82e-4f9e-c617-b181da75abf9"
      },
      "execution_count": 1,
      "outputs": [
        {
          "output_type": "stream",
          "name": "stdout",
          "text": [
            "Looking in indexes: https://pypi.org/simple, https://us-python.pkg.dev/colab-wheels/public/simple/\n",
            "Collecting idx2numpy\n",
            "  Downloading idx2numpy-1.2.3.tar.gz (6.8 kB)\n",
            "Requirement already satisfied: numpy in /usr/local/lib/python3.7/dist-packages (from idx2numpy) (1.21.6)\n",
            "Requirement already satisfied: six in /usr/local/lib/python3.7/dist-packages (from idx2numpy) (1.15.0)\n",
            "Building wheels for collected packages: idx2numpy\n",
            "  Building wheel for idx2numpy (setup.py) ... \u001b[?25l\u001b[?25hdone\n",
            "  Created wheel for idx2numpy: filename=idx2numpy-1.2.3-py3-none-any.whl size=7920 sha256=2c1dd57212edbd2e42247e9ba746f49332228350c04b86067150e919fdcf2c1a\n",
            "  Stored in directory: /root/.cache/pip/wheels/1a/ce/ad/d5e95a35cfe34149aade5e500f2edd535c0566d79e9a8e1d8a\n",
            "Successfully built idx2numpy\n",
            "Installing collected packages: idx2numpy\n",
            "Successfully installed idx2numpy-1.2.3\n"
          ]
        }
      ]
    },
    {
      "cell_type": "code",
      "execution_count": null,
      "metadata": {
        "colab": {
          "base_uri": "https://localhost:8080/"
        },
        "id": "5i3gR8ndgF45",
        "outputId": "31a21fca-bb37-4fec-cd74-9e60b515aca8"
      },
      "outputs": [
        {
          "data": {
            "text/plain": [
              "array([[0., 1., 0., ..., 0., 0., 0.],\n",
              "       [0., 0., 0., ..., 0., 0., 0.],\n",
              "       [0., 0., 0., ..., 0., 0., 0.],\n",
              "       ...,\n",
              "       [0., 0., 0., ..., 0., 0., 0.],\n",
              "       [0., 0., 0., ..., 0., 0., 1.],\n",
              "       [0., 0., 0., ..., 0., 0., 0.]])"
            ]
          },
          "execution_count": 2,
          "metadata": {},
          "output_type": "execute_result"
        }
      ],
      "source": [
        "o_h"
      ]
    },
    {
      "cell_type": "code",
      "execution_count": 2,
      "metadata": {
        "id": "vP0WPLYkseLx"
      },
      "outputs": [],
      "source": [
        "def softmax(x):\n",
        "  return np.exp(x)/np.sum(np.exp(x),axis=0)\n",
        "\n"
      ]
    },
    {
      "cell_type": "code",
      "execution_count": 8,
      "metadata": {
        "id": "rQJTErvAfR58"
      },
      "outputs": [],
      "source": [
        "w=np.random.rand(784,10)*10e-3\n",
        "b=np.random.rand(10,1)\n"
      ]
    },
    {
      "cell_type": "code",
      "source": [
        "a=0.05"
      ],
      "metadata": {
        "id": "CNB3bKlQ8_l8"
      },
      "execution_count": 5,
      "outputs": []
    },
    {
      "cell_type": "code",
      "source": [
        "c=[]\n",
        "for i in range(500):\n",
        "  #FORWARD PROPAGATION\n",
        "  z= np.dot(w.T,xr)+b\n",
        "  Y=softmax(z)\n",
        "\n",
        "  #LOSS AND COST\n",
        "  loss= -np.sum(o_h*np.log(Y+10**(-15)),axis=0,keepdims=True) \n",
        "  cost = 1/60000 * (np.sum(loss,axis=1))\n",
        "\n",
        "  #CALCULATING GRADIENTS\n",
        "  dz=Y-o_h\n",
        "  dw=np.dot(xr,dz.T)/60000\n",
        "  db=np.sum(dz,axis=1,keepdims=True)/60000\n",
        "\n",
        "  #GRADIENT DESCENT\n",
        "  w=w-a*dw\n",
        "  b=b-a*db\n",
        "  if i%10==0:\n",
        "    print(cost)\n",
        "  c.append(cost) "
      ],
      "metadata": {
        "colab": {
          "base_uri": "https://localhost:8080/"
        },
        "id": "f7hSNEo05k_O",
        "outputId": "5ee4fb81-363f-4a5c-df3c-707854f12654"
      },
      "execution_count": 9,
      "outputs": [
        {
          "output_type": "stream",
          "name": "stdout",
          "text": [
            "[2.34006232]\n",
            "[1.85391098]\n",
            "[1.54928339]\n",
            "[1.33942264]\n",
            "[1.19044956]\n",
            "[1.08084489]\n",
            "[0.99736331]\n",
            "[0.93181537]\n",
            "[0.879003]\n",
            "[0.83551821]\n",
            "[0.79905338]\n",
            "[0.76799853]\n",
            "[0.74119977]\n",
            "[0.71781]\n",
            "[0.69719391]\n",
            "[0.67886594]\n",
            "[0.66244866]\n",
            "[0.64764424]\n",
            "[0.6342145]\n",
            "[0.62196658]\n",
            "[0.61074267]\n",
            "[0.60041228]\n",
            "[0.5908666]\n",
            "[0.5820141]\n",
            "[0.57377723]\n",
            "[0.56608981]\n",
            "[0.55889502]\n",
            "[0.55214378]\n",
            "[0.54579345]\n",
            "[0.53980683]\n",
            "[0.53415127]\n",
            "[0.52879802]\n",
            "[0.52372165]\n",
            "[0.51889955]\n",
            "[0.51431161]\n",
            "[0.50993981]\n",
            "[0.505768]\n",
            "[0.50178163]\n",
            "[0.49796758]\n",
            "[0.49431397]\n",
            "[0.49081001]\n",
            "[0.48744591]\n",
            "[0.48421271]\n",
            "[0.48110225]\n",
            "[0.47810704]\n",
            "[0.47522021]\n",
            "[0.47243544]\n",
            "[0.46974691]\n",
            "[0.46714926]\n",
            "[0.46463751]\n"
          ]
        }
      ]
    },
    {
      "cell_type": "code",
      "execution_count": 10,
      "metadata": {
        "colab": {
          "base_uri": "https://localhost:8080/",
          "height": 281
        },
        "id": "RxkdEzMi6Kwe",
        "outputId": "b11460b2-cd80-46fa-8307-2f8c3c515f9f"
      },
      "outputs": [
        {
          "output_type": "display_data",
          "data": {
            "text/plain": [
              "<Figure size 432x288 with 1 Axes>"
            ],
            "image/png": "[encoded data removed]"
          },
          "metadata": {
            "needs_background": "light"
          }
        }
      ],
      "source": [
        "import matplotlib.pyplot as plt \n",
        "plt.plot(c)\n",
        "plt.title(\"Loss\")\n",
        "plt.show()\n"
      ]
    },
    {
      "cell_type": "code",
      "execution_count": 12,
      "metadata": {
        "id": "eOzdVuvDyArb"
      },
      "outputs": [],
      "source": [
        "t=idx2numpy.convert_from_file(\"/content/Data/t10k-images-idx3-ubyte\")\n",
        "tl=idx2numpy.convert_from_file(\"/content/Data/t10k-labels-idx1-ubyte\")"
      ]
    },
    {
      "cell_type": "code",
      "execution_count": 19,
      "metadata": {
        "colab": {
          "base_uri": "https://localhost:8080/"
        },
        "id": "t0gGBsfa9q2e",
        "outputId": "d3c70c3c-6ef5-40fc-dbf1-c4956ad5ee78"
      },
      "outputs": [
        {
          "output_type": "stream",
          "name": "stdout",
          "text": [
            "88.9\n"
          ]
        }
      ],
      "source": [
        "s=0\n",
        "a=[]\n",
        "for i in range(1,10000):\n",
        "  tr=(t.reshape(t.shape[0],-1).T)/255\n",
        "  out=np.dot(w.T,tr[:,i])\n",
        "  if tl[i]==np.argmax(softmax((out.reshape(10,1))+b)):\n",
        "    s=s+1\n",
        "print(s/100)\n",
        "\n"
      ]
    },
    {
      "cell_type": "code",
      "execution_count": 20,
      "metadata": {
        "colab": {
          "base_uri": "https://localhost:8080/",
          "height": 300
        },
        "id": "OY08lSVyLAhp",
        "outputId": "bbd38905-65ae-47b2-e577-66e6c9f9c5c1"
      },
      "outputs": [
        {
          "output_type": "stream",
          "name": "stdout",
          "text": [
            "Enter the index:65\n",
            "4\n"
          ]
        },
        {
          "output_type": "display_data",
          "data": {
            "text/plain": [
              "<Figure size 432x288 with 1 Axes>"
            ],
            "image/png": "[encoded data removed]"
          },
          "metadata": {
            "needs_background": "light"
          }
        }
      ],
      "source": [
        "index=int(input(\"Enter the index:\"))\n",
        "out=np.dot(w.T,tr[:,index])\n",
        "print(np.argmax(softmax((out.reshape(10,1))+b)))\n",
        "plt.imshow(t[index])\n",
        "plt.show()"
      ]
    }
  ],
  "metadata": {
    "colab": {
      "collapsed_sections": [],
      "provenance": []
    },
    "kernelspec": {
      "display_name": "Python 3",
      "name": "python3"
    },
    "language_info": {
      "name": "python"
    }
  },
  "nbformat": 4,
  "nbformat_minor": 0
}